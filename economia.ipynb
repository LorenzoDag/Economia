{
 "cells": [
  {
   "cell_type": "markdown",
   "metadata": {},
   "source": [
    "# Analisi dati Opencoesione\n",
    "\n",
    "Esecuzione di analisi della banca dati Opencoesione circa i progetti relativi al ciclo di programmazione 2014/2020 aventi come tema sintetico quello della *Ricerca ed innovazione\".\n",
    "\n",
    "## Gruppo di lavoro:\n",
    "\n",
    "* Lanciotti Antonio\n",
    "* Di Gaetano Anna\n",
    "* Olivieri Davide\n",
    "* D'Agostino Lorenzo\n",
    "\n",
    "### Target: Regione Marche\n",
    "Andranno individuati i progetti che ricadono nelle aree tematiche della S3 regionale e di Impresa 4.0 (*leggere [README](https://github.com/LorenzoDag/Economia#readme)*)"
   ]
  },
  {
   "cell_type": "markdown",
   "metadata": {},
   "source": [
    "### Import librerie ed inizializzazione sessione"
   ]
  },
  {
   "cell_type": "code",
   "execution_count": 279,
   "metadata": {},
   "outputs": [],
   "source": [
    "from pyspark.sql import SparkSession\n",
    "from pyspark.sql.functions import regexp_replace # Bisogna sostituire le ',' con '.' nei numeri altrimenti il casting fallisce\n",
    "from pyspark.sql.types import DoubleType\n",
    "spark = SparkSession.builder.appName(\"Economia\").getOrCreate()"
   ]
  },
  {
   "cell_type": "markdown",
   "metadata": {},
   "source": [
    "### Custom schema"
   ]
  },
  {
   "cell_type": "markdown",
   "metadata": {},
   "source": [
    "### Upload dataset\n",
    "**Nota**: Cambiare i path"
   ]
  },
  {
   "cell_type": "code",
   "execution_count": 280,
   "metadata": {},
   "outputs": [],
   "source": [
    "path_localizzazioni = \"hdfs://localhost:9000/localizzazioni.csv\"\n",
    "path_progetti = \"hdfs://localhost:9000/progetti.csv\"\n",
    "path_soggetti = \"hdfs://localhost:9000/soggetti.csv\"\n",
    "\n",
    "localizzazioni = spark.read.option(\"delimiter\", \";\").option(\"header\", True).csv(path_localizzazioni)\n",
    "localizzazioni.createOrReplaceTempView(\"localizzazioni\") # Rende la tabella visibile a spark (per query)\n",
    "progetti = spark.read.option(\"delimiter\", \";\").option(\"header\", True).csv(path_progetti)\n",
    "progetti = progetti.withColumn(\"FINANZ_TOTALE_PUBBLICO\", regexp_replace(\"FINANZ_TOTALE_PUBBLICO\", \",\", \".\"))\n",
    "progetti = progetti.withColumn(\"FINANZ_TOTALE_PUBBLICO\", progetti[\"FINANZ_TOTALE_PUBBLICO\"].cast(DoubleType())).fillna(0, subset=[\"FINANZ_TOTALE_PUBBLICO\"])\n",
    "progetti.createOrReplaceTempView(\"progetti\")             # Rende la tabella visibile a spark (per query)\n",
    "soggetti = spark.read.option(\"delimiter\", \";\").option(\"header\", True).csv(path_soggetti)\n",
    "soggetti.createOrReplaceTempView(\"soggetti\")             # Rende la tabella visibile a spark (per query)"
   ]
  },
  {
   "cell_type": "markdown",
   "metadata": {},
   "source": [
    "### Definizione e consecutiva esecuzione query\n",
    "Seleziona le colonne descritte nel [README](https://github.com/LorenzoDag/Economia#readme) ed esegue una join on *COD_LOCALE_PROGETTO*"
   ]
  },
  {
   "cell_type": "code",
   "execution_count": 281,
   "metadata": {},
   "outputs": [],
   "source": [
    "select_loc = \"localizzazioni.COD_LOCALE_PROGETTO, localizzazioni.DEN_REGIONE, localizzazioni.DEN_PROVINCIA, localizzazioni.DEN_COMUNE, localizzazioni.INDIRIZZO_PROG\"\n",
    "select_prog = \"progetti.OC_TITOLO_PROGETTO, progetti.OC_SINTESI_PROGETTO, progetti.DESCRIZIONE_GRANDE_PROGETTO, progetti.CUP_DESCR_CATEGORIA, progetti.CUP_DESCR_NATURA,progetti.CUP_DESCR_TIPOLOGIA,progetti.CUP_DESCR_SETTORE,progetti.CUP_DESCR_SOTTOSETTORE,progetti.OC_DATA_INIZIO_PROGETTO,progetti.FINANZ_TOTALE_PUBBLICO\"\n",
    "select_sogg = \"soggetti.COD_ATECO_SOGG, soggetti.SOGG_DESCR_RUOLO, soggetti.OC_CODICE_FISCALE_SOGG, soggetti.OC_DENOMINAZIONE_SOGG, soggetti.INDIRIZZO_SOGG, soggetti.CAP_SOGG\"\n",
    "\n",
    "where_prog = \"progetti.OC_COD_CICLO = 2 AND progetti.OC_COD_TEMA_SINTETICO = 1\"\n",
    "where_loc = \"LOWER(localizzazioni.DEN_REGIONE) LIKE '%marche%'\"\n",
    "\n",
    "QUERY = \"SELECT \" + select_loc + \", \" + select_prog + \", \" + select_sogg + \" FROM localizzazioni INNER JOIN progetti ON localizzazioni.COD_LOCALE_PROGETTO = progetti.COD_LOCALE_PROGETTO INNER JOIN soggetti ON localizzazioni.COD_LOCALE_PROGETTO = soggetti.COD_LOCALE_PROGETTO WHERE \" + where_loc + \" AND \" + where_prog"
   ]
  },
  {
   "cell_type": "code",
   "execution_count": 282,
   "metadata": {},
   "outputs": [],
   "source": [
    "result_dataframe = spark.sql(QUERY)\n",
    "result_dataframe.createOrReplaceTempView(\"result\")\n",
    "spark.catalog.cacheTable(\"result\")"
   ]
  },
  {
   "cell_type": "markdown",
   "metadata": {},
   "source": [
    "### Definizione funzione filtro\n",
    "input: \n",
    "> * dataframe_name : (String) nome della tabella cachata\n",
    "> * testo : (String / List of string) testo da filtrare all'interno della tabella\n",
    "\n",
    "output:\n",
    "> * None : se testo vuoto\n",
    "> * dataframe filtrato : (pyspark.sql.dataframe.DataFrame) dataframe contenente le righe che contengono testo"
   ]
  },
  {
   "cell_type": "code",
   "execution_count": 283,
   "metadata": {},
   "outputs": [],
   "source": [
    "from functools import reduce\n",
    "from pyspark.sql import DataFrame\n",
    "\n",
    "def filterDataframeForKeyword(dataframe_name, testo=''):\n",
    "    if not testo: return None\n",
    "    if not isinstance(testo, list):\n",
    "        testo = testo.lower()\n",
    "        return spark.sql(f\"SELECT * FROM {dataframe_name} WHERE LOWER(DESCRIZIONE_GRANDE_PROGETTO) LIKE '%{testo}%' OR LOWER(OC_TITOLO_PROGETTO) LIKE '%{testo}%' OR LOWER(OC_SINTESI_PROGETTO) LIKE '%{testo}%' OR LOWER(CUP_DESCR_NATURA) LIKE '%{testo}%' OR LOWER(CUP_DESCR_TIPOLOGIA) LIKE '%{testo}%' OR LOWER(CUP_DESCR_SETTORE) LIKE '%{testo}%' OR LOWER(CUP_DESCR_SOTTOSETTORE) LIKE '%{testo}%' OR LOWER(CUP_DESCR_CATEGORIA) LIKE '%{testo}%'\")\n",
    "    df_list = []\n",
    "    for word in testo:\n",
    "        df_list.append(spark.sql(f\"SELECT * FROM {dataframe_name} WHERE LOWER(DESCRIZIONE_GRANDE_PROGETTO) LIKE '%{word}%' OR LOWER(OC_TITOLO_PROGETTO) LIKE '%{word}%' OR LOWER(OC_SINTESI_PROGETTO) LIKE '%{word}%' OR LOWER(CUP_DESCR_NATURA) LIKE '%{word}%' OR LOWER(CUP_DESCR_TIPOLOGIA) LIKE '%{word}%' OR LOWER(CUP_DESCR_SETTORE) LIKE '%{word}%' OR LOWER(CUP_DESCR_SOTTOSETTORE) LIKE '%{word}%' OR LOWER(CUP_DESCR_CATEGORIA) LIKE '%{word}%'\"))\n",
    "    return reduce(DataFrame.unionAll, df_list)"
   ]
  },
  {
   "cell_type": "markdown",
   "metadata": {},
   "source": [
    "# Filtraggio del dataframe\n",
    "L'obiettivo e' quello di filtrare le righe del dataframe contenenti parole chiave riconducibili a progetti inerenti le dimensioni tematiche descritte nel file [README](https://github.com/LorenzoDag/Economia#readme) ed i progetti di **industria 4.0**"
   ]
  },
  {
   "cell_type": "markdown",
   "metadata": {},
   "source": [
    "### Definizione parole chiave"
   ]
  },
  {
   "cell_type": "code",
   "execution_count": 284,
   "metadata": {},
   "outputs": [],
   "source": [
    "s3_dict = {\n",
    "    \"s3_1\": [\"industria intelligente\", \"ambiente\", \"industria sostenibile\", \"energia rinnovabile\", \"energie rinnovabili\", \"rinnovabili\", \"ecocompatibili\", \"generazione distribuita\", \"biomateriali\", \"sostenibilità ambientale\", \"bonifiche di siti contaminati\", \"bonifica\"],\n",
    "    \"s3_2\": [\"salute\", \"alimentazione\", \"healthy ageing\", \"e-healty\", \"healty\", \"assistenza domiciliare\", \"medicina rigenerativa\", \"diagnostica avanzata\", \"diagnostica\", \"bioinformatica\", \"sviluppo farmaceutico\", \"agricoltura di precisione\", \"agricoltura del futuro\", \"agricoltura avanzata\", \"packaging\", \"tracciabilità\", \"produzioni alimentari\", \"nutraceutica\", \"nutrigenomica\", \"alimenti funzionali\"],\n",
    "    \"s3_3\": [\"agenda digitale\", \"smart communities\", \"mobilità intelligente\", \"logistica\", \"mobilità urbana\", \"sicurezza dell’ambiente urbano\", \"monitoraggio ambientale\", \"prevenzione di eventi critici\", \"reti di sensori intelligenti\", \"sensori intelligenti\", \"smart building\", \"efficientamento energetico\", \"web economy\"],\n",
    "    \"s3_4\": [\"turismo\", \"patrimonio culturale\", \"applicazioni per il turismo\", \"made in italy\", \"culturali\", \"artistici\", \"paesaggistici\", \"artigianato digitale\", \"gaming\", \"editoria digitale\"],\n",
    "    \"s3_5\": [\"aerospazio\", \"difesa\", \"green engine\", \"avionica avanzata\", \"air traffic\", \"unmanned aerial veicle\", \"ultra-Léger Motorisé\", \"avionica\", \"robotica spaziale\", \"interfaccia uomo-macchina\", \"propulsione elettrica\", \"cantieristica militare\"],\n",
    "}\n",
    "\n",
    "ind4_dict = {\n",
    "    \"manufacturing\": [\"robot collaborativi\", \"collaborativi\", \"3d\", \"stampa 3d\", \"robot programmabili\", \"robot interconnessi\"],\n",
    "    \"augmented_reality\": [\"realtà aumentata\", \"augmented reality\"],\n",
    "    \"simulation\": [\"simulazione tra macchine\", \"simulazioni tra macchine\"],\n",
    "    \"integration\": [\"integrazione verticale\", \"integrazione orizzontale\", \"integrazione dati\"],\n",
    "    \"iot\": [\"internet of things\", \"iot\"],\n",
    "    \"cloud\": [\"cloud computing\", \"cloud\", \"elevate quantità di dati\"],\n",
    "    \"cybercecurity\": [\"cybersecurity\", \"sicurezza informatica\", \"sistemi aperti\"],\n",
    "    \"analytics\": [\"big data\", \"analytics\", \"analisi di base dati\", \"analisi di database\", \"analisi di dati\", \"analisi dei dati\"],\n",
    "}"
   ]
  },
  {
   "cell_type": "markdown",
   "metadata": {},
   "source": [
    "### Filtraggio del dataframe"
   ]
  },
  {
   "cell_type": "code",
   "execution_count": 285,
   "metadata": {},
   "outputs": [],
   "source": [
    "s3_df = filterDataframeForKeyword(\"result\", reduce(lambda a,b: a+b, s3_dict.values()))    # Contiene le righe inerenti le aree tematiche di tipo s3\n",
    "ind4_df = filterDataframeForKeyword(\"result\", reduce(lambda a,b: a+b, ind4_dict.values())) # Contiene le riche inerenti i progetti di industria 4.0"
   ]
  },
  {
   "cell_type": "code",
   "execution_count": 286,
   "metadata": {
    "scrolled": true
   },
   "outputs": [],
   "source": [
    "s3_df_dict = {}\n",
    "ind4_df_dict = {} # Dizionario contenente i dataframe filtrati per parole chiave \n",
    "for key, value in s3_dict.items():\n",
    "    s3_df_dict[key] = filterDataframeForKeyword(\"result\", value)\n",
    "for key, value in ind4_dict.items():\n",
    "    ind4_df_dict[key] = filterDataframeForKeyword(\"result\", value)"
   ]
  },
  {
   "cell_type": "markdown",
   "metadata": {},
   "source": [
    "### Filtraggio dei duplicati dove il progetto e' assegnato alla stessa azienda\n",
    "\n",
    "Questo perche' all'interno del dataframe il progetto appare piu' volte se l'azienda appare sia come beneficiario del progetto che come attuatore dello stesso."
   ]
  },
  {
   "cell_type": "code",
   "execution_count": 298,
   "metadata": {},
   "outputs": [],
   "source": [
    "s3_df_nodup = s3_df.dropDuplicates([\"COD_LOCALE_PROGETTO\", \"OC_TITOLO_PROGETTO\", \"OC_DENOMINAZIONE_SOGG\", \"OC_CODICE_FISCALE_SOGG\"])\n",
    "s3_df_nodup.createOrReplaceTempView(\"s3\")\n",
    "spark.catalog.cacheTable(\"s3\")\n",
    "ind4_df_nodup = ind4_df.dropDuplicates([\"COD_LOCALE_PROGETTO\", \"OC_TITOLO_PROGETTO\", \"OC_DENOMINAZIONE_SOGG\", \"OC_CODICE_FISCALE_SOGG\"])\n",
    "ind4_df_nodup.createOrReplaceTempView(\"ind4\")\n",
    "spark.catalog.cacheTable(\"ind4\")\n",
    "\n",
    "for s3_key in s3_dict.keys() :\n",
    "    s3_df_dict[s3_key] = s3_df_dict[s3_key].dropDuplicates([\"OC_TITOLO_PROGETTO\", \"OC_DENOMINAZIONE_SOGG\", \"OC_CODICE_FISCALE_SOGG\"])\n",
    "    s3_df_dict[s3_key].createOrReplaceTempView(s3_key)\n",
    "    spark.catalog.cacheTable(s3_key)\n",
    "    \n",
    "for ind4_key in ind4_dict.keys():\n",
    "    ind4_df_dict[ind4_key] = ind4_df_dict[ind4_key].dropDuplicates([\"OC_TITOLO_PROGETTO\", \"OC_DENOMINAZIONE_SOGG\", \"OC_CODICE_FISCALE_SOGG\"])\n",
    "    ind4_df_dict[ind4_key].createOrReplaceTempView(ind4_key)\n",
    "    spark.catalog.cacheTable(ind4_key)"
   ]
  },
  {
   "cell_type": "markdown",
   "metadata": {},
   "source": [
    "### Stampa dimensioni datasets\n",
    "*Nota*: Se viene eseguito lo snippet precedente il numero di righe sara' inferiore"
   ]
  },
  {
   "cell_type": "code",
   "execution_count": 288,
   "metadata": {
    "scrolled": false
   },
   "outputs": [
    {
     "name": "stdout",
     "output_type": "stream",
     "text": [
      "DATASET AREE TEMATICHE S3:\n",
      "\n",
      "\ts3_1: count = 42\n",
      "\ts3_2: count = 120\n",
      "\ts3_3: count = 19\n",
      "\ts3_4: count = 0\n",
      "\ts3_5: count = 0\n",
      "\n",
      "DATASET INDUSTRIA 4.0:\n",
      "\n",
      "\tmanufacturing: count = 0\n",
      "\taugmented_reality: count = 0\n",
      "\tsimulation: count = 0\n",
      "\tintegration: count = 0\n",
      "\tiot: count = 69\n",
      "\tcloud: count = 3\n",
      "\tcybercecurity: count = 0\n",
      "\tanalytics: count = 0\n"
     ]
    }
   ],
   "source": [
    "print(\"DATASET AREE TEMATICHE S3:\\n\")\n",
    "for key, val in s3_df_dict.items():\n",
    "    print(f\"\\t{key}: count = {val.count()}\")\n",
    "    \n",
    "print(\"\\nDATASET INDUSTRIA 4.0:\\n\")\n",
    "for key, val in ind4_df_dict.items():\n",
    "    print(f\"\\t{key}: count = {val.count()}\")"
   ]
  },
  {
   "cell_type": "markdown",
   "metadata": {},
   "source": [
    "# Visualizzazione\n",
    "Visualizzazione dei risultati ottenuti dal filtraggio dei dati di Opencoesione."
   ]
  },
  {
   "cell_type": "code",
   "execution_count": 289,
   "metadata": {},
   "outputs": [
    {
     "name": "stdout",
     "output_type": "stream",
     "text": [
      "Requirement already satisfied: matplotlib in /home/hadoop_user/.local/lib/python3.8/site-packages (3.4.1)\n",
      "Requirement already satisfied: cycler>=0.10 in /home/hadoop_user/.local/lib/python3.8/site-packages (from matplotlib) (0.10.0)\n",
      "Requirement already satisfied: pyparsing>=2.2.1 in /home/hadoop_user/.local/lib/python3.8/site-packages (from matplotlib) (2.4.7)\n",
      "Requirement already satisfied: pillow>=6.2.0 in /usr/lib/python3/dist-packages (from matplotlib) (7.0.0)\n",
      "Requirement already satisfied: kiwisolver>=1.0.1 in /home/hadoop_user/.local/lib/python3.8/site-packages (from matplotlib) (1.3.1)\n",
      "Requirement already satisfied: numpy>=1.16 in /home/hadoop_user/.local/lib/python3.8/site-packages (from matplotlib) (1.20.2)\n",
      "Requirement already satisfied: python-dateutil>=2.7 in /usr/lib/python3/dist-packages (from matplotlib) (2.7.3)\n",
      "Requirement already satisfied: six in /usr/lib/python3/dist-packages (from cycler>=0.10->matplotlib) (1.14.0)\n"
     ]
    }
   ],
   "source": [
    "import sys\n",
    "!{sys.executable} -m pip install matplotlib \n",
    "import matplotlib.pyplot as plt"
   ]
  },
  {
   "cell_type": "code",
   "execution_count": 299,
   "metadata": {},
   "outputs": [],
   "source": [
    "s3_tot_dict = {}\n",
    "ind4_tot_dict = {}\n",
    "\n",
    "ind4_tot = spark.sql(\"SELECT SUM(FINANZ_TOTALE_PUBBLICO) FROM ind4\").first()[0] or 0.0\n",
    "s3_tot = spark.sql(\"SELECT SUM(FINANZ_TOTALE_PUBBLICO) FROM s3\").first()[0] or 0.0\n",
    "\n",
    "\n",
    "for name, dataframe in s3_dict.items():\n",
    "    s3_tot_dict[name] = spark.sql(\"SELECT SUM(FINANZ_TOTALE_PUBBLICO) FROM \" + name).first()[0] or 0.0\n",
    "    \n",
    "for name, dataframe in ind4_dict.items():\n",
    "    ind4_tot_dict[name] = spark.sql(\"SELECT SUM(FINANZ_TOTALE_PUBBLICO) FROM \" + name).first()[0] or 0.0"
   ]
  },
  {
   "cell_type": "code",
   "execution_count": 307,
   "metadata": {},
   "outputs": [
    {
     "data": {
      "image/png": "[encoded data removed]",
      "text/plain": [
       "<Figure size 432x288 with 1 Axes>"
      ]
     },
     "metadata": {},
     "output_type": "display_data"
    }
   ],
   "source": [
    "plt.title(f\"FINANZE PER PROGETTI CON AREA TEMATICA S3\\nTotale istanziato: {s3_tot*1E-6} mln di euro\")\n",
    "plt.pie(s3_tot_dict.values(), labels=s3_tot_dict.keys())\n",
    "plt.show()"
   ]
  },
  {
   "cell_type": "markdown",
   "metadata": {},
   "source": [
    "## Opzionale!\n",
    "Salvataggio datasets.\n",
    "\n",
    "**Nota**: Cambiare i path"
   ]
  },
  {
   "cell_type": "code",
   "execution_count": 56,
   "metadata": {},
   "outputs": [],
   "source": [
    "main_path = \"/home/hadoop_user/Scrivania/economia_app/\"\n",
    "if main_path: # Solo se non vuoto\n",
    "    try:\n",
    "        result_dataframe.repartition(1).write.option(\"header\", True).option(\"delimiter\", \";\").csv(main_path + \"dataset_tot\") # Dataset totale\n",
    "        s3_df.repartition(1).write.option(\"header\", True).option(\"delimiter\", \";\").csv(main_path + \"dataset_tematiche_s3\")   # Dataset dimensioni tematiche s3\n",
    "        ind4_df.repartition(1).write.option(\"header\", True).option(\"delimiter\", \";\").csv(main_path + \"dataset_industria_4.0\")# Dataset industria 4.0   \n",
    "    except Exception as e:\n",
    "        print(\"C'e' stato un errore nel salvataggio: \" + e)\n",
    "else: print(\"Aggiungere il path\")"
   ]
  }
 ],
 "metadata": {
  "kernelspec": {
   "display_name": "Python 3",
   "language": "python",
   "name": "python3"
  },
  "language_info": {
   "codemirror_mode": {
    "name": "ipython",
    "version": 3
   },
   "file_extension": ".py",
   "mimetype": "text/x-python",
   "name": "python",
   "nbconvert_exporter": "python",
   "pygments_lexer": "ipython3",
   "version": "3.8.5"
  }
 },
 "nbformat": 4,
 "nbformat_minor": 4
}
