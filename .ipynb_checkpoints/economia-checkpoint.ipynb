{
 "cells": [
  {
   "cell_type": "markdown",
   "metadata": {},
   "source": [
    "# Analisi dati Opencoesione\n",
    "\n",
    "Esecuzione di analisi della banca dati Opencoesione circa i progetti relativi al ciclo di programmazione 2014/2020 aventi come tema sintetico quello della *Ricerca ed innovazione\".\n",
    "\n",
    "## Gruppo di lavoro:\n",
    "\n",
    "* Lanciotti Antonio\n",
    "* Di Gaetano Anna\n",
    "* Olivieri Davide\n",
    "* D'Agostino Lorenzo\n",
    "\n",
    "### Target: Regione Marche\n",
    "Andranno individuati i progetti che ricadono nelle aree tematiche della S3 regionale e di Impresa 4.0 (*leggere [README](https://github.com/LorenzoDag/Economia#readme)*)"
   ]
  },
  {
   "cell_type": "markdown",
   "metadata": {},
   "source": [
    "### Import librerie ed inizializzazione sessione"
   ]
  },
  {
   "cell_type": "code",
   "execution_count": 30,
   "metadata": {},
   "outputs": [],
   "source": [
    "from pyspark.sql import SparkSession\n",
    "spark = SparkSession.builder.appName(\"Economia\").getOrCreate()"
   ]
  },
  {
   "cell_type": "markdown",
   "metadata": {},
   "source": [
    "### Upload dataset\n",
    "**Nota**: Cambiare i path"
   ]
  },
  {
   "cell_type": "code",
   "execution_count": 45,
   "metadata": {},
   "outputs": [],
   "source": [
    "path_localizzazioni = \"hdfs://localhost:9000/localizzazioni.csv\"\n",
    "path_progetti = \"hdfs://localhost:9000/progetti.csv\"\n",
    "path_soggetti = \"hdfs://localhost:9000/soggetti.csv\"\n",
    "\n",
    "localizzazioni = spark.read.option(\"delimiter\", \";\").option(\"header\", True).csv(path_localizzazioni)\n",
    "localizzazioni.createOrReplaceTempView(\"localizzazioni\") # Rende la tabella visibile a spark (per query)\n",
    "progetti = spark.read.option(\"delimiter\", \";\").option(\"header\", True).csv(path_progetti)\n",
    "progetti.createOrReplaceTempView(\"progetti\")             # Rende la tabella visibile a spark (per query)\n",
    "soggetti = spark.read.option(\"delimiter\", \";\").option(\"header\", True).csv(path_soggetti)\n",
    "soggetti.createOrReplaceTempView(\"soggetti\")             # Rende la tabella visibile a spark (per query)"
   ]
  },
  {
   "cell_type": "markdown",
   "metadata": {},
   "source": [
    "### Definizione e consecutiva esecuzione query\n",
    "Seleziona le colonne descritte nel [README](https://github.com/LorenzoDag/Economia#readme) ed esegue una join on *COD_LOCALE_PROGETTO*"
   ]
  },
  {
   "cell_type": "code",
   "execution_count": 46,
   "metadata": {},
   "outputs": [],
   "source": [
    "select_loc = \"localizzazioni.COD_LOCALE_PROGETTO, localizzazioni.DEN_REGIONE, localizzazioni.DEN_PROVINCIA, localizzazioni.DEN_COMUNE, localizzazioni.INDIRIZZO_PROG\"\n",
    "select_prog = \"progetti.OC_TITOLO_PROGETTO, progetti.OC_SINTESI_PROGETTO, progetti.DESCRIZIONE_GRANDE_PROGETTO, progetti.CUP_DESCR_CATEGORIA, progetti.CUP_DESCR_NATURA,progetti.CUP_DESCR_TIPOLOGIA,progetti.CUP_DESCR_SETTORE,progetti.CUP_DESCR_SOTTOSETTORE,progetti.OC_DATA_INIZIO_PROGETTO,progetti.FINANZ_TOTALE_PUBBLICO\"\n",
    "select_sogg = \"soggetti.COD_ATECO_SOGG, soggetti.SOGG_DESCR_RUOLO, soggetti.OC_CODICE_FISCALE_SOGG, soggetti.OC_DENOMINAZIONE_SOGG, soggetti.INDIRIZZO_SOGG, soggetti.CAP_SOGG\"\n",
    "\n",
    "where_prog = \"progetti.OC_COD_CICLO = 2 AND progetti.OC_COD_TEMA_SINTETICO = 1\"\n",
    "where_loc = \"LOWER(localizzazioni.DEN_REGIONE) LIKE '%marche%'\"\n",
    "\n",
    "QUERY = \"SELECT \" + select_loc + \", \" + select_prog + \", \" + select_sogg + \" FROM localizzazioni INNER JOIN progetti ON localizzazioni.COD_LOCALE_PROGETTO = progetti.COD_LOCALE_PROGETTO INNER JOIN soggetti ON localizzazioni.COD_LOCALE_PROGETTO = soggetti.COD_LOCALE_PROGETTO WHERE \" + where_loc + \" AND \" + where_prog"
   ]
  },
  {
   "cell_type": "code",
   "execution_count": 47,
   "metadata": {},
   "outputs": [],
   "source": [
    "result_dataframe = spark.sql(QUERY)\n",
    "result_dataframe.createOrReplaceTempView(\"result\")\n",
    "spark.catalog.cacheTable(\"result\")"
   ]
  },
  {
   "cell_type": "markdown",
   "metadata": {},
   "source": [
    "## Opzionale!\n",
    "Salvataggio dataset joinato.\n",
    "\n",
    "**Nota**: Cambiare il path"
   ]
  },
  {
   "cell_type": "code",
   "execution_count": 22,
   "metadata": {},
   "outputs": [],
   "source": [
    "save_path = \"/home/hadoop_user/Scrivania/economia/prova\"\n",
    "if not save_path: # Solo se non vuoto\n",
    "    result_dataframe.repartition(1).write.option(\"header\", True).option(\"delimiter\", \";\").csv(save_path)"
   ]
  },
  {
   "cell_type": "markdown",
   "metadata": {},
   "source": [
    "### Definizione funzione filtro\n",
    "input: \n",
    "> * dataframe_name : (String) nome della tabella cachata\n",
    "> * testo : (String) testo da filtrare all'interno della tabella\n",
    "\n",
    "output:\n",
    "> * None : se testo vuoto\n",
    "> * dataframe filtrato : (pyspark.sql.dataframe.DataFrame) dataframe contenente le righe che contengono testo"
   ]
  },
  {
   "cell_type": "code",
   "execution_count": 51,
   "metadata": {},
   "outputs": [],
   "source": [
    "def filterDataframeForTech(dataframe_name, testo=''):\n",
    "    if not testo: return None\n",
    "    testo = testo.lower()\n",
    "    return spark.sql(f\"SELECT * FROM {dataframe_name} WHERE LOWER(DESCRIZIONE_GRANDE_PROGETTO) LIKE '%{testo}%' OR LOWER(OC_TITOLO_PROGETTO) LIKE '%{testo}%' OR LOWER(OC_SINTESI_PROGETTO) LIKE '%{testo}%' OR LOWER(CUP_DESCR_NATURA) LIKE '%{testo}%' OR LOWER(CUP_DESCR_TIPOLOGIA) LIKE '%{testo}%' OR LOWER(CUP_DESCR_SETTORE) LIKE '%{testo}%' OR LOWER(CUP_DESCR_SOTTOSETTORE) LIKE '%{testo}%' OR LOWER(CUP_DESCR_CATEGORIA) LIKE '%{testo}%'\")"
   ]
  },
  {
   "cell_type": "markdown",
   "metadata": {},
   "source": [
    "### Filtraggio del dataframe"
   ]
  },
  {
   "cell_type": "code",
   "execution_count": 75,
   "metadata": {},
   "outputs": [
    {
     "name": "stdout",
     "output_type": "stream",
     "text": [
      "<class 'pyspark.sql.dataframe.DataFrame'>\n"
     ]
    }
   ],
   "source": [
    "res = filterDataframeForTech(\"result\", 'invecchiamento attivo')\n",
    "res.count()"
   ]
  },
  {
   "cell_type": "code",
   "execution_count": null,
   "metadata": {},
   "outputs": [],
   "source": []
  }
 ],
 "metadata": {
  "kernelspec": {
   "display_name": "Python 3",
   "language": "python",
   "name": "python3"
  },
  "language_info": {
   "codemirror_mode": {
    "name": "ipython",
    "version": 3
   },
   "file_extension": ".py",
   "mimetype": "text/x-python",
   "name": "python",
   "nbconvert_exporter": "python",
   "pygments_lexer": "ipython3",
   "version": "3.8.5"
  }
 },
 "nbformat": 4,
 "nbformat_minor": 4
}
