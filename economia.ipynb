{
 "cells": [
  {
   "cell_type": "markdown",
   "metadata": {},
   "source": [
    "# Analisi dati Opencoesione\n",
    "\n",
    "Esecuzione di analisi della banca dati Opencoesione circa i progetti relativi al ciclo di programmazione 2014/2020 aventi come tema sintetico quello della *Ricerca ed innovazione\".\n",
    "\n",
    "## Gruppo di lavoro:\n",
    "\n",
    "* Lanciotti Antonio\n",
    "* Di Gaetano Anna\n",
    "* Olivieri Davide\n",
    "* D'Agostino Lorenzo\n",
    "\n",
    "### Target: Regione Marche\n",
    "Andranno individuati i progetti che ricadono nelle aree tematiche della S3 regionale e di Impresa 4.0 (*leggere [README](https://github.com/LorenzoDag/Economia#readme)*)"
   ]
  },
  {
   "cell_type": "markdown",
   "metadata": {},
   "source": [
    "### Import librerie ed inizializzazione sessione"
   ]
  },
  {
   "cell_type": "code",
   "execution_count": 12,
   "metadata": {},
   "outputs": [],
   "source": [
    "from pyspark.sql import SparkSession\n",
    "spark = SparkSession.builder.appName(\"Economia\").getOrCreate()"
   ]
  },
  {
   "cell_type": "markdown",
   "metadata": {},
   "source": [
    "### Upload dataset\n",
    "**Nota**: Cambiare i path"
   ]
  },
  {
   "cell_type": "code",
   "execution_count": 14,
   "metadata": {},
   "outputs": [],
   "source": [
    "path_localizzazioni = \"hdfs://localhost:9000/localizzazioni.csv\"\n",
    "path_progetti = \"hdfs://localhost:9000/progetti.csv\"\n",
    "path_soggetti = \"hdfs://localhost:9000/soggetti.csv\"\n",
    "\n",
    "localizzazioni = spark.read.option(\"delimiter\", \";\").option(\"header\", True).csv(path_localizzazioni)\n",
    "localizzazioni.createOrReplaceTempView(\"localizzazioni\") # Rende la tabella visibile a spark (per query)\n",
    "progetti = spark.read.option(\"delimiter\", \";\").option(\"header\", True).csv(path_progetti)\n",
    "progetti.createOrReplaceTempView(\"progetti\")             # Rende la tabella visibile a spark (per query)\n",
    "soggetti = spark.read.option(\"delimiter\", \";\").option(\"header\", True).csv(path_soggetti)\n",
    "soggetti.createOrReplaceTempView(\"soggetti\")             # Rende la tabella visibile a spark (per query)"
   ]
  },
  {
   "cell_type": "markdown",
   "metadata": {},
   "source": [
    "### Definizione e consecutiva esecuzione query\n",
    "Seleziona le colonne descritte nel [README](https://github.com/LorenzoDag/Economia#readme) ed esegue una join on *COD_LOCALE_PROGETTO*"
   ]
  },
  {
   "cell_type": "code",
   "execution_count": 15,
   "metadata": {},
   "outputs": [],
   "source": [
    "select_loc = \"localizzazioni.COD_LOCALE_PROGETTO, localizzazioni.DEN_REGIONE, localizzazioni.DEN_PROVINCIA, localizzazioni.DEN_COMUNE, localizzazioni.INDIRIZZO_PROG\"\n",
    "select_prog = \"progetti.OC_TITOLO_PROGETTO, progetti.OC_SINTESI_PROGETTO, progetti.DESCRIZIONE_GRANDE_PROGETTO, progetti.CUP_DESCR_CATEGORIA, progetti.CUP_DESCR_NATURA,progetti.CUP_DESCR_TIPOLOGIA,progetti.CUP_DESCR_SETTORE,progetti.CUP_DESCR_SOTTOSETTORE,progetti.OC_DATA_INIZIO_PROGETTO,progetti.FINANZ_TOTALE_PUBBLICO\"\n",
    "select_sogg = \"soggetti.COD_ATECO_SOGG, soggetti.SOGG_DESCR_RUOLO, soggetti.OC_CODICE_FISCALE_SOGG, soggetti.OC_DENOMINAZIONE_SOGG, soggetti.INDIRIZZO_SOGG, soggetti.CAP_SOGG\"\n",
    "\n",
    "where_prog = \"progetti.OC_COD_CICLO = 2 AND progetti.OC_COD_TEMA_SINTETICO = 1\"\n",
    "where_loc = \"LOWER(localizzazioni.DEN_REGIONE) LIKE '%marche%'\"\n",
    "\n",
    "QUERY = \"SELECT \" + select_loc + \", \" + select_prog + \", \" + select_sogg + \" FROM localizzazioni INNER JOIN progetti ON localizzazioni.COD_LOCALE_PROGETTO = progetti.COD_LOCALE_PROGETTO INNER JOIN soggetti ON localizzazioni.COD_LOCALE_PROGETTO = soggetti.COD_LOCALE_PROGETTO WHERE \" + where_loc + \" AND \" + where_prog"
   ]
  },
  {
   "cell_type": "code",
   "execution_count": 16,
   "metadata": {},
   "outputs": [],
   "source": [
    "result_dataframe = spark.sql(QUERY)\n",
    "result_dataframe.createOrReplaceTempView(\"result\")\n",
    "spark.catalog.cacheTable(\"result\")"
   ]
  },
  {
   "cell_type": "markdown",
   "metadata": {},
   "source": [
    "### Definizione funzione filtro\n",
    "input: \n",
    "> * dataframe_name : (String) nome della tabella cachata\n",
    "> * testo : (String / List of string) testo da filtrare all'interno della tabella\n",
    "\n",
    "output:\n",
    "> * None : se testo vuoto\n",
    "> * dataframe filtrato : (pyspark.sql.dataframe.DataFrame) dataframe contenente le righe che contengono testo"
   ]
  },
  {
   "cell_type": "code",
   "execution_count": 46,
   "metadata": {},
   "outputs": [],
   "source": [
    "from functools import reduce\n",
    "from pyspark.sql import DataFrame\n",
    "\n",
    "def filterDataframeForTech(dataframe_name, testo=''):\n",
    "    if not testo: return None\n",
    "    if not isinstance(testo, list):\n",
    "        testo = testo.lower()\n",
    "        return spark.sql(f\"SELECT * FROM {dataframe_name} WHERE LOWER(DESCRIZIONE_GRANDE_PROGETTO) LIKE '%{testo}%' OR LOWER(OC_TITOLO_PROGETTO) LIKE '%{testo}%' OR LOWER(OC_SINTESI_PROGETTO) LIKE '%{testo}%' OR LOWER(CUP_DESCR_NATURA) LIKE '%{testo}%' OR LOWER(CUP_DESCR_TIPOLOGIA) LIKE '%{testo}%' OR LOWER(CUP_DESCR_SETTORE) LIKE '%{testo}%' OR LOWER(CUP_DESCR_SOTTOSETTORE) LIKE '%{testo}%' OR LOWER(CUP_DESCR_CATEGORIA) LIKE '%{testo}%'\")\n",
    "    df_list = []\n",
    "    for word in testo:\n",
    "        df_list.append(spark.sql(f\"SELECT * FROM {dataframe_name} WHERE LOWER(DESCRIZIONE_GRANDE_PROGETTO) LIKE '%{word}%' OR LOWER(OC_TITOLO_PROGETTO) LIKE '%{word}%' OR LOWER(OC_SINTESI_PROGETTO) LIKE '%{word}%' OR LOWER(CUP_DESCR_NATURA) LIKE '%{word}%' OR LOWER(CUP_DESCR_TIPOLOGIA) LIKE '%{word}%' OR LOWER(CUP_DESCR_SETTORE) LIKE '%{word}%' OR LOWER(CUP_DESCR_SOTTOSETTORE) LIKE '%{word}%' OR LOWER(CUP_DESCR_CATEGORIA) LIKE '%{word}%'\"))\n",
    "    return reduce(DataFrame.unionAll, df_list)"
   ]
  },
  {
   "cell_type": "markdown",
   "metadata": {},
   "source": [
    "# Filtraggio del dataframe\n",
    "L'obiettivo e' quello di filtrare le righe del dataframe contenenti parole chiave riconducibili a progetti inerenti le dimensioni tematiche descritte nel file [README](https://github.com/LorenzoDag/Economia#readme) ed i progetti di **industria 4.0**"
   ]
  },
  {
   "cell_type": "markdown",
   "metadata": {},
   "source": [
    "### Definizione parole chiave"
   ]
  },
  {
   "cell_type": "code",
   "execution_count": 47,
   "metadata": {},
   "outputs": [],
   "source": [
    "s3_list = [\"industria intelligente\", \"ambiente\", \"salute\", \"alimentazione\", \"azienda digitale\", \"smart communities\", \"mobilità intelligente\", \"turismo\", \"patrimonio culturale\", \"aerospazio\", \"difesa\"]\n",
    "ind4_list = [\"robot collaborativi\", \"3d\", \"stampa 3d\", \"realtà aumentata\", \"simulazione\", \"simulazioni\", \"integrazione verticale\", \"integrazione orizzontale\", \"internet of things\", \"iot\", \"cloud computing\", \"cloud\", \"cybersecurity\", \"sicurezza informatica\", \"big data\", \"analytics\"]"
   ]
  },
  {
   "cell_type": "markdown",
   "metadata": {},
   "source": [
    "### Filtraggio del dataframe"
   ]
  },
  {
   "cell_type": "code",
   "execution_count": 50,
   "metadata": {},
   "outputs": [],
   "source": [
    "s3_df = filterDataframeForTech(\"result\", s3_list)\n",
    "ind4_df = filterDataframeForTech(\"result\", ind4_list)"
   ]
  },
  {
   "cell_type": "markdown",
   "metadata": {},
   "source": [
    "## Opzionale!\n",
    "Salvataggio datasets.\n",
    "\n",
    "**Nota**: Cambiare i path"
   ]
  },
  {
   "cell_type": "code",
   "execution_count": 55,
   "metadata": {},
   "outputs": [],
   "source": [
    "main_path = \"/home/hadoop_user/Scrivania/github_economia/Economia/\"\n",
    "if main_path: # Solo se non vuoto\n",
    "    result_dataframe.repartition(1).write.option(\"header\", True).option(\"delimiter\", \";\").csv(main_path + \"dataset_tot\") # Dataset totale\n",
    "    s3_df.repartition(1).write.option(\"header\", True).option(\"delimiter\", \";\").csv(main_path + \"dataset_tematiche_s3\")# Dataset dimensioni tematiche s3\n",
    "    ind4_df.repartition(1).write.option(\"header\", True).option(\"delimiter\", \";\").csv(main_path + \"dataset_industria_4.0\")    "
   ]
  },
  {
   "cell_type": "code",
   "execution_count": null,
   "metadata": {},
   "outputs": [],
   "source": []
  }
 ],
 "metadata": {
  "kernelspec": {
   "display_name": "Python 3",
   "language": "python",
   "name": "python3"
  },
  "language_info": {
   "codemirror_mode": {
    "name": "ipython",
    "version": 3
   },
   "file_extension": ".py",
   "mimetype": "text/x-python",
   "name": "python",
   "nbconvert_exporter": "python",
   "pygments_lexer": "ipython3",
   "version": "3.8.5"
  }
 },
 "nbformat": 4,
 "nbformat_minor": 4
}
